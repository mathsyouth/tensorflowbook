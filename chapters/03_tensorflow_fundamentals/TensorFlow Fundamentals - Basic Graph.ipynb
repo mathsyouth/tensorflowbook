{
 "cells": [
  {
   "cell_type": "code",
   "execution_count": 3,
   "metadata": {
    "collapsed": true
   },
   "outputs": [],
   "source": [
    "# Import the tensorflow library, and reference it as `tf`\n",
    "import tensorflow as tf\n",
    "\n",
    "# Build our graph nodes, starting from the inputs\n",
    "# tf.constant creats a \"constant\" Op. It takes a single tensor value,\n",
    "#  and outputs that same value to nodes that are directly connected to it.\n",
    "a = tf.constant(5, name=\"input_a\")\n",
    "b = tf.constant(3, name=\"input_b\")\n",
    "c = tf.multiply(a,b, name=\"mul_c\")\n",
    "d = tf.add(a,b, name=\"add_d\")\n",
    "e = tf.add(c,d, name=\"add_e\")\n",
    "\n",
    "# Open up a TensorFlow Session\n",
    "sess = tf.Session()\n",
    "\n",
    "# Execute our output node, using our Session\n",
    "# Save the output from the running graph\n",
    "output = sess.run(e)\n",
    "\n",
    "# Open a TensorFlow SummaryWriter to write our graph to disk\n",
    "writer = tf.summary.FileWriter('./my_graph', sess.graph)\n",
    "\n",
    "# Close our SummaryWriter and Session objects\n",
    "writer.close()\n",
    "sess.close()\n",
    "\n",
    "# To start TensorBoard after running this file, execute the following command:\n",
    "# $ tensorboard --logdir='./my_graph'"
   ]
  },
  {
   "cell_type": "code",
   "execution_count": 6,
   "metadata": {
    "collapsed": true
   },
   "outputs": [],
   "source": [
    "a = tf.constant([5, 3], name=\"input_a\")\n",
    "b = tf.reduce_prod(a, name=\"prod_b\")\n",
    "c = tf.reduce_sum(a, name=\"sum_c\")\n",
    "d = tf.add(b, c, name=\"add_d\")\n",
    "\n",
    "# Open up a TensorFlow Session\n",
    "sess = tf.Session()\n",
    "\n",
    "# Execute our output node, using our Session\n",
    "# Save the output from the running graph\n",
    "output = sess.run(e)\n",
    "\n",
    "# Open a TensorFlow SummaryWriter to write our graph to disk\n",
    "writer = tf.summary.FileWriter('./my_graph', sess.graph)\n",
    "\n",
    "# Close our SummaryWriter and Session objects\n",
    "writer.close()\n",
    "sess.close()"
   ]
  },
  {
   "cell_type": "code",
   "execution_count": 7,
   "metadata": {},
   "outputs": [
    {
     "data": {
      "text/plain": [
       "'1.4.0'"
      ]
     },
     "execution_count": 7,
     "metadata": {},
     "output_type": "execute_result"
    }
   ],
   "source": [
    "tf.__version__"
   ]
  },
  {
   "cell_type": "code",
   "execution_count": 9,
   "metadata": {},
   "outputs": [],
   "source": [
    "import numpy as np"
   ]
  },
  {
   "cell_type": "code",
   "execution_count": 12,
   "metadata": {},
   "outputs": [
    {
     "name": "stdout",
     "output_type": "stream",
     "text": [
      "23\n"
     ]
    }
   ],
   "source": [
    "# Create a placeholder vector of length 2 with data type int32\n",
    "a = tf.placeholder(tf.int32, shape=[2], name=\"my_input\")\n",
    "# Use the placeholder as if it were any other Tensor object\n",
    "b = tf.reduce_prod(a, name=\"prod_b\")\n",
    "c = tf.reduce_sum(a, name=\"sum_c\")\n",
    "d = tf.add(b, c, name=\"add_d\")\n",
    "\n",
    "with tf.Session() as sess:\n",
    "    # Create a dictionary to pass into \"feed_dict\"\n",
    "    # Key: 'a', the handler to the placeholder's output Tensor\n",
    "    # Value: A vector with value [5, 3] and int32 data type\n",
    "    input_dict = {a: np.array([5, 3], dtype=np.int32)}\n",
    "    \n",
    "    # Fetch the value of \"d\", feeding the value of 'input_vector' into 'a'\n",
    "    print(sess.run(d, feed_dict=input_dict))"
   ]
  }
 ],
 "metadata": {
  "kernelspec": {
   "display_name": "Python 3",
   "language": "python",
   "name": "python3"
  },
  "language_info": {
   "codemirror_mode": {
    "name": "ipython",
    "version": 3
   },
   "file_extension": ".py",
   "mimetype": "text/x-python",
   "name": "python",
   "nbconvert_exporter": "python",
   "pygments_lexer": "ipython3",
   "version": "3.6.4"
  }
 },
 "nbformat": 4,
 "nbformat_minor": 2
}
